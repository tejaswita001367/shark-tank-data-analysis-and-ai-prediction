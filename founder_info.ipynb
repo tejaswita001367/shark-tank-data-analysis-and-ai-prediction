{
 "cells": [
  {
   "cell_type": "code",
   "execution_count": 15,
   "id": "6fb7fc9b-8c92-4876-b740-66d51284d79f",
   "metadata": {},
   "outputs": [],
   "source": [
    "df = pd.read_excel(\"founder_info.xlsx\")\n",
    "df.to_csv(\"founder_info.csv\", index=False)\n"
   ]
  },
  {
   "cell_type": "code",
   "execution_count": 17,
   "id": "bbd8c1f5-c4e2-46b8-8920-69ae79a9e96a",
   "metadata": {},
   "outputs": [
    {
     "name": "stdout",
     "output_type": "stream",
     "text": [
      "   Episode Number  Pitch Number                Brand  \\\n",
      "0               1             1  BluePine Industries   \n",
      "1               1             2        Booz scooters   \n",
      "2               1             3  Heart up my Sleeves   \n",
      "3               2             4           Tagz Foods   \n",
      "4               2             5       Head and Heart   \n",
      "\n",
      "                                            Idea  \\\n",
      "0                                   Frozen Momos   \n",
      "1  Renting e-bike for mobility in private spaces   \n",
      "2                             Detachable Sleeves   \n",
      "3                           Healthy Potato Chips   \n",
      "4                       Brain Development Course   \n",
      "\n",
      "   Investment Amount (In Lakhs INR)  Debt (In lakhs INR) Equity Anupam  \\\n",
      "0                                75                    0    18%      N   \n",
      "1                                40                    0    50%      N   \n",
      "2                                25                    0    30%      Y   \n",
      "3                                70                    0  2.75%      N   \n",
      "4                                 0                    0      0      N   \n",
      "\n",
      "  Ashneer Namita  ... Peyush Vineeta Ghazal Season  Total Sharks  \\\n",
      "0       Y      N  ...      N       Y      N      1             3   \n",
      "1       Y      N  ...      N       Y      N      1             2   \n",
      "2       N      N  ...      N       Y      N      1             2   \n",
      "3       Y      N  ...      N       N      N      1             1   \n",
      "4       N      N  ...      N       N      N      1             0   \n",
      "\n",
      "   Founder Gender Education Age  Experience Founder Type  \n",
      "0            Male   IIT/IIM  28         Yes         Solo  \n",
      "1          Female    Tier-2  24          No   Co-founder  \n",
      "2            Male   Foreign  32         Yes         Solo  \n",
      "3          Female    Tier-1  29         Yes   Co-founder  \n",
      "4            Male   IIT/IIM  35          No         Solo  \n",
      "\n",
      "[5 rows x 21 columns]\n"
     ]
    }
   ],
   "source": [
    "import pandas as pd\n",
    "\n",
    "# Load main dataset\n",
    "df_main = pd.read_csv(\"shark_tank_cleaned.csv.csv\", encoding='latin1')\n",
    "\n",
    "# Load founder info\n",
    "df_founder = pd.read_csv(\"founder_info.csv\")\n",
    "\n",
    "# Merge on Pitch Number (ensure column exists in both)\n",
    "df = df_main.merge(df_founder, on='Pitch Number')\n",
    "\n",
    "# Check result\n",
    "print(df.head())\n"
   ]
  },
  {
   "cell_type": "code",
   "execution_count": 20,
   "id": "6541a7bd-b754-4129-a7c8-723328929e88",
   "metadata": {},
   "outputs": [],
   "source": [
    "df['Funded'] = df['Investment Amount (In Lakhs INR)'] > 0\n"
   ]
  },
  {
   "cell_type": "code",
   "execution_count": 23,
   "id": "a24fefb6-dcca-4009-9e5d-b4a78720ce27",
   "metadata": {},
   "outputs": [
    {
     "name": "stdout",
     "output_type": "stream",
     "text": [
      "Founder Gender\n",
      "Female    0.8\n",
      "Male      0.6\n",
      "Name: Funded, dtype: float64\n"
     ]
    }
   ],
   "source": [
    "#gender based funding\n",
    "gender_success = df.groupby('Founder Gender')['Funded'].mean()\n",
    "print(gender_success)\n"
   ]
  },
  {
   "cell_type": "code",
   "execution_count": 24,
   "id": "c9d2c94f-8cf4-46eb-bf8d-5ceb3c39c16c",
   "metadata": {},
   "outputs": [
    {
     "name": "stdout",
     "output_type": "stream",
     "text": [
      "Education\n",
      "Foreign    0.500000\n",
      "IIT/IIM    0.666667\n",
      "Tier-1     1.000000\n",
      "Tier-2     0.666667\n",
      "Name: Funded, dtype: float64\n"
     ]
    }
   ],
   "source": [
    "#education based success\n",
    "edu_success = df.groupby('Education')['Funded'].mean()\n",
    "print(edu_success)\n"
   ]
  },
  {
   "cell_type": "code",
   "execution_count": 26,
   "id": "4b9739ae-d468-4fd0-8afa-d95b0ed7be2f",
   "metadata": {},
   "outputs": [
    {
     "name": "stdout",
     "output_type": "stream",
     "text": [
      "Age Group\n",
      "<25      1.000000\n",
      "25-35    0.666667\n",
      "35+           NaN\n",
      "Name: Funded, dtype: float64\n"
     ]
    },
    {
     "name": "stderr",
     "output_type": "stream",
     "text": [
      "C:\\Users\\dell\\AppData\\Local\\Temp\\ipykernel_264\\803324462.py:3: FutureWarning: The default of observed=False is deprecated and will be changed to True in a future version of pandas. Pass observed=False to retain current behavior or observed=True to adopt the future default and silence this warning.\n",
      "  age_success = df.groupby('Age Group')['Funded'].mean()\n"
     ]
    }
   ],
   "source": [
    "#age group analysis\n",
    "df['Age Group'] = pd.cut(df['Age'], bins=[0, 25, 35, 50], labels=[\"<25\", \"25-35\", \"35+\"])\n",
    "age_success = df.groupby('Age Group')['Funded'].mean()\n",
    "print(age_success)\n"
   ]
  },
  {
   "cell_type": "code",
   "execution_count": 28,
   "id": "90a329de-c44c-4987-bcd0-278f8e35923d",
   "metadata": {},
   "outputs": [
    {
     "name": "stdout",
     "output_type": "stream",
     "text": [
      "Experience\n",
      "No     0.500000\n",
      "Yes    0.833333\n",
      "Name: Funded, dtype: float64\n",
      "Founder Type\n",
      "Co-founder    0.8\n",
      "Solo          0.6\n",
      "Name: Funded, dtype: float64\n"
     ]
    }
   ],
   "source": [
    "experience_success = df.groupby('Experience')['Funded'].mean()\n",
    "foundertype_success = df.groupby('Founder Type')['Funded'].mean()\n",
    "print(experience_success)\n",
    "print(foundertype_success)\n"
   ]
  },
  {
   "cell_type": "code",
   "execution_count": null,
   "id": "70c8afce-0503-4b66-bd04-8fa2558db679",
   "metadata": {},
   "outputs": [],
   "source": []
  }
 ],
 "metadata": {
  "kernelspec": {
   "display_name": "Python 3 (ipykernel)",
   "language": "python",
   "name": "python3"
  },
  "language_info": {
   "codemirror_mode": {
    "name": "ipython",
    "version": 3
   },
   "file_extension": ".py",
   "mimetype": "text/x-python",
   "name": "python",
   "nbconvert_exporter": "python",
   "pygments_lexer": "ipython3",
   "version": "3.12.7"
  }
 },
 "nbformat": 4,
 "nbformat_minor": 5
}
